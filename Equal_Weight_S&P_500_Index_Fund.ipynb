{
  "nbformat": 4,
  "nbformat_minor": 0,
  "metadata": {
    "colab": {
      "name": "Equal-Weight S&P 500 Index Fund.ipynb",
      "provenance": [],
      "collapsed_sections": []
    },
    "kernelspec": {
      "name": "python3",
      "display_name": "Python 3"
    },
    "language_info": {
      "name": "python"
    }
  },
  "cells": [
    {
      "cell_type": "markdown",
      "metadata": {
        "id": "MirYum6vC3NH"
      },
      "source": [
        "Equal-Weight S&P 500 Index Fund\n",
        "Introduction & Library Imports\n",
        "The S&P 500 is the world's most popular stock market index. The largest fund that is benchmarked to this index is the SPDR® S&P 500® ETF Trust. It has more than US$250 billion of assets under management.\n",
        "\n",
        "The goal of this section of the course is to create a Python script that will accept the value of your portfolio and tell you how many shares of each S&P 500 constituent you should purchase to get an equal-weight version of the index fund. It covers 500 largest companies. Large market capitalization -> large market base-> large weight in index"
      ]
    },
    {
      "cell_type": "markdown",
      "metadata": {
        "id": "pHm0qyhdC5_c"
      },
      "source": [
        "**Library Imports**\n",
        "The first thing we need to do is import the open-source software libraries that we'll be using in this tutorial."
      ]
    },
    {
      "cell_type": "code",
      "metadata": {
        "colab": {
          "base_uri": "https://localhost:8080/"
        },
        "id": "Lzl-JPWhEe29",
        "outputId": "c59724e4-3e09-4b84-83d3-deaa0e67eae3"
      },
      "source": [
        "!pip install xlsxwriter"
      ],
      "execution_count": 3,
      "outputs": [
        {
          "output_type": "stream",
          "text": [
            "Collecting xlsxwriter\n",
            "\u001b[?25l  Downloading https://files.pythonhosted.org/packages/2c/ce/74fd8d638a5b82ea0c6f08a5978f741c2655a38c3d6e82f73a0f084377e6/XlsxWriter-1.4.3-py2.py3-none-any.whl (149kB)\n",
            "\r\u001b[K     |██▏                             | 10kB 16.5MB/s eta 0:00:01\r\u001b[K     |████▍                           | 20kB 9.6MB/s eta 0:00:01\r\u001b[K     |██████▋                         | 30kB 5.9MB/s eta 0:00:01\r\u001b[K     |████████▊                       | 40kB 5.5MB/s eta 0:00:01\r\u001b[K     |███████████                     | 51kB 2.9MB/s eta 0:00:01\r\u001b[K     |█████████████▏                  | 61kB 3.2MB/s eta 0:00:01\r\u001b[K     |███████████████▍                | 71kB 3.4MB/s eta 0:00:01\r\u001b[K     |█████████████████▌              | 81kB 3.6MB/s eta 0:00:01\r\u001b[K     |███████████████████▊            | 92kB 3.7MB/s eta 0:00:01\r\u001b[K     |██████████████████████          | 102kB 4.0MB/s eta 0:00:01\r\u001b[K     |████████████████████████▏       | 112kB 4.0MB/s eta 0:00:01\r\u001b[K     |██████████████████████████▎     | 122kB 4.0MB/s eta 0:00:01\r\u001b[K     |████████████████████████████▌   | 133kB 4.0MB/s eta 0:00:01\r\u001b[K     |██████████████████████████████▊ | 143kB 4.0MB/s eta 0:00:01\r\u001b[K     |████████████████████████████████| 153kB 4.0MB/s \n",
            "\u001b[?25hInstalling collected packages: xlsxwriter\n",
            "Successfully installed xlsxwriter-1.4.3\n"
          ],
          "name": "stdout"
        }
      ]
    },
    {
      "cell_type": "code",
      "metadata": {
        "id": "zU7GzhOB_ety"
      },
      "source": [
        "import numpy as np #The Numpy numerical computing library\n",
        "import pandas as pd #The Pandas data science library\n",
        "import requests #The requests library for HTTP requests in Python\n",
        "import xlsxwriter #The XlsxWriter libarary for \n",
        "import math #The Python math module"
      ],
      "execution_count": 4,
      "outputs": []
    },
    {
      "cell_type": "markdown",
      "metadata": {
        "id": "CP57jEfzW9V8"
      },
      "source": [
        "IEX_CLOUD_API_TOKEN = 'Tpk_059b97af715d417d9f49f50b51b1c448'"
      ]
    },
    {
      "cell_type": "markdown",
      "metadata": {
        "id": "3EfBQ3w2EM58"
      },
      "source": [
        "Importing Our List of Stocks\n",
        "The next thing we need to do is import the constituents of the S&P 500.\n",
        "\n",
        "These constituents change over time, so in an ideal world you would connect directly to the index provider (Standard & Poor's) and pull their real-time constituents on a regular basis.\n",
        "\n",
        "Paying for access to the index provider's API is outside of the scope of this course.\n",
        "\n",
        "There's a static version of the S&P 500 constituents available here. Click this link to download them now. Move this file into the starter-files folder so it can be accessed by other files in that directory.\n",
        "\n",
        "Now it's time to import these stocks to our Jupyter Notebook file."
      ]
    },
    {
      "cell_type": "code",
      "metadata": {
        "id": "3iLP5QhFEJpN"
      },
      "source": [
        "stocks = pd.read_csv('/content/sp_500_stocks.csv')"
      ],
      "execution_count": 5,
      "outputs": []
    },
    {
      "cell_type": "code",
      "metadata": {
        "colab": {
          "base_uri": "https://localhost:8080/"
        },
        "id": "JoLYKfmaFzKV",
        "outputId": "5ea60f53-0ce4-49b5-d8d3-24f0109284e9"
      },
      "source": [
        "stocks.info()"
      ],
      "execution_count": 6,
      "outputs": [
        {
          "output_type": "stream",
          "text": [
            "<class 'pandas.core.frame.DataFrame'>\n",
            "RangeIndex: 505 entries, 0 to 504\n",
            "Data columns (total 1 columns):\n",
            " #   Column  Non-Null Count  Dtype \n",
            "---  ------  --------------  ----- \n",
            " 0   Ticker  505 non-null    object\n",
            "dtypes: object(1)\n",
            "memory usage: 4.1+ KB\n"
          ],
          "name": "stdout"
        }
      ]
    },
    {
      "cell_type": "code",
      "metadata": {
        "colab": {
          "base_uri": "https://localhost:8080/",
          "height": 406
        },
        "id": "npM_Gk07F3Ed",
        "outputId": "8add3463-2949-48db-8545-573afe837537"
      },
      "source": [
        "stocks"
      ],
      "execution_count": 8,
      "outputs": [
        {
          "output_type": "execute_result",
          "data": {
            "text/html": [
              "<div>\n",
              "<style scoped>\n",
              "    .dataframe tbody tr th:only-of-type {\n",
              "        vertical-align: middle;\n",
              "    }\n",
              "\n",
              "    .dataframe tbody tr th {\n",
              "        vertical-align: top;\n",
              "    }\n",
              "\n",
              "    .dataframe thead th {\n",
              "        text-align: right;\n",
              "    }\n",
              "</style>\n",
              "<table border=\"1\" class=\"dataframe\">\n",
              "  <thead>\n",
              "    <tr style=\"text-align: right;\">\n",
              "      <th></th>\n",
              "      <th>Ticker</th>\n",
              "    </tr>\n",
              "  </thead>\n",
              "  <tbody>\n",
              "    <tr>\n",
              "      <th>0</th>\n",
              "      <td>A</td>\n",
              "    </tr>\n",
              "    <tr>\n",
              "      <th>1</th>\n",
              "      <td>AAL</td>\n",
              "    </tr>\n",
              "    <tr>\n",
              "      <th>2</th>\n",
              "      <td>AAP</td>\n",
              "    </tr>\n",
              "    <tr>\n",
              "      <th>3</th>\n",
              "      <td>AAPL</td>\n",
              "    </tr>\n",
              "    <tr>\n",
              "      <th>4</th>\n",
              "      <td>ABBV</td>\n",
              "    </tr>\n",
              "    <tr>\n",
              "      <th>...</th>\n",
              "      <td>...</td>\n",
              "    </tr>\n",
              "    <tr>\n",
              "      <th>500</th>\n",
              "      <td>YUM</td>\n",
              "    </tr>\n",
              "    <tr>\n",
              "      <th>501</th>\n",
              "      <td>ZBH</td>\n",
              "    </tr>\n",
              "    <tr>\n",
              "      <th>502</th>\n",
              "      <td>ZBRA</td>\n",
              "    </tr>\n",
              "    <tr>\n",
              "      <th>503</th>\n",
              "      <td>ZION</td>\n",
              "    </tr>\n",
              "    <tr>\n",
              "      <th>504</th>\n",
              "      <td>ZTS</td>\n",
              "    </tr>\n",
              "  </tbody>\n",
              "</table>\n",
              "<p>505 rows × 1 columns</p>\n",
              "</div>"
            ],
            "text/plain": [
              "    Ticker\n",
              "0        A\n",
              "1      AAL\n",
              "2      AAP\n",
              "3     AAPL\n",
              "4     ABBV\n",
              "..     ...\n",
              "500    YUM\n",
              "501    ZBH\n",
              "502   ZBRA\n",
              "503   ZION\n",
              "504    ZTS\n",
              "\n",
              "[505 rows x 1 columns]"
            ]
          },
          "metadata": {
            "tags": []
          },
          "execution_count": 8
        }
      ]
    },
    {
      "cell_type": "code",
      "metadata": {
        "id": "U42cLUh0GLls"
      },
      "source": [
        "from secret import IEX_CLOUD_API_TOKEN"
      ],
      "execution_count": 12,
      "outputs": []
    },
    {
      "cell_type": "code",
      "metadata": {
        "colab": {
          "base_uri": "https://localhost:8080/"
        },
        "id": "mS2QrWiOGiUN",
        "outputId": "c38dcc13-0fd6-455f-8b8b-f79a37ef075a"
      },
      "source": [
        "symbol='AAPL'\n",
        "api_url = f'https://sandbox.iexapis.com/stable/stock/{symbol}/quote?token={IEX_CLOUD_API_TOKEN}'\n",
        "data = requests.get(api_url).json()\n",
        "data"
      ],
      "execution_count": 13,
      "outputs": [
        {
          "output_type": "execute_result",
          "data": {
            "text/plain": [
              "{'avgTotalVolume': 94350970,\n",
              " 'calculationPrice': 'close',\n",
              " 'change': -1.96,\n",
              " 'changePercent': -0.01482,\n",
              " 'close': 126.91,\n",
              " 'closeSource': 'cliofiaf',\n",
              " 'closeTime': 1630911983792,\n",
              " 'companyName': 'Apple Inc',\n",
              " 'delayedPrice': 127.28,\n",
              " 'delayedPriceTime': 1675401337282,\n",
              " 'extendedChange': -0.13,\n",
              " 'extendedChangePercent': -0.001,\n",
              " 'extendedPrice': 127.3,\n",
              " 'extendedPriceTime': 1682635925264,\n",
              " 'high': 134,\n",
              " 'highSource': 'rn ed 1t5de macleeipyui',\n",
              " 'highTime': 1638994437513,\n",
              " 'iexAskPrice': None,\n",
              " 'iexAskSize': None,\n",
              " 'iexBidPrice': None,\n",
              " 'iexBidSize': None,\n",
              " 'iexClose': 128.7,\n",
              " 'iexCloseTime': 1688647917022,\n",
              " 'iexLastUpdated': None,\n",
              " 'iexMarketPercent': None,\n",
              " 'iexOpen': 126.12,\n",
              " 'iexOpenTime': 1660169080454,\n",
              " 'iexRealtimePrice': None,\n",
              " 'iexRealtimeSize': None,\n",
              " 'iexVolume': None,\n",
              " 'isUSMarketOpen': False,\n",
              " 'lastTradeTime': 1665434867317,\n",
              " 'latestPrice': 126.41,\n",
              " 'latestSource': 'Close',\n",
              " 'latestTime': 'May 21, 2021',\n",
              " 'latestUpdate': 1675617494335,\n",
              " 'latestVolume': 81869619,\n",
              " 'low': 127.95,\n",
              " 'lowSource': 'dcpuenere5 ayd itl1ie m',\n",
              " 'lowTime': 1681181021462,\n",
              " 'marketCap': 2123028399542,\n",
              " 'oddLotDelayedPrice': 131.177,\n",
              " 'oddLotDelayedPriceTime': 1630520530323,\n",
              " 'open': 131.55,\n",
              " 'openSource': 'iflcfoia',\n",
              " 'openTime': 1698823076452,\n",
              " 'peRatio': 28.87,\n",
              " 'previousClose': 127.86,\n",
              " 'previousVolume': 76870700,\n",
              " 'primaryExchange': 'LQNGAKTSDSALR N LC BT(/)GEAEOEASM',\n",
              " 'symbol': 'AAPL',\n",
              " 'volume': 81095755,\n",
              " 'week52High': 146.07,\n",
              " 'week52Low': 79.83,\n",
              " 'ytdChange': -0.06895479202296458}"
            ]
          },
          "metadata": {
            "tags": []
          },
          "execution_count": 13
        }
      ]
    },
    {
      "cell_type": "code",
      "metadata": {
        "colab": {
          "base_uri": "https://localhost:8080/"
        },
        "id": "xfHw6w2OG0nn",
        "outputId": "af4fcbb9-3d5f-49fe-fef9-6c0296e785dc"
      },
      "source": [
        "data['close'], data['latestPrice'], data['marketCap']"
      ],
      "execution_count": 26,
      "outputs": [
        {
          "output_type": "execute_result",
          "data": {
            "text/plain": [
              "(176.29, 176.68, 84408092206)"
            ]
          },
          "metadata": {
            "tags": []
          },
          "execution_count": 26
        }
      ]
    },
    {
      "cell_type": "code",
      "metadata": {
        "colab": {
          "base_uri": "https://localhost:8080/",
          "height": 77
        },
        "id": "lmx7Y7s6G4h2",
        "outputId": "4ebd09c2-07bc-499b-8c9f-334cbd953643"
      },
      "source": [
        "my_columns = ['Ticker', 'Price','Market Capitalization', 'Number Of Shares to Buy']\n",
        "final_dataframe = pd.DataFrame(columns = my_columns)\n",
        "final_dataframe = final_dataframe.append(\n",
        "                                        pd.Series(['AAPL', \n",
        "                                                   data['latestPrice'], \n",
        "                                                   data['marketCap'], \n",
        "                                                   'N/A'], \n",
        "                                                  index = my_columns), \n",
        "                                        ignore_index = True)\n",
        "final_dataframe"
      ],
      "execution_count": 28,
      "outputs": [
        {
          "output_type": "execute_result",
          "data": {
            "text/html": [
              "<div>\n",
              "<style scoped>\n",
              "    .dataframe tbody tr th:only-of-type {\n",
              "        vertical-align: middle;\n",
              "    }\n",
              "\n",
              "    .dataframe tbody tr th {\n",
              "        vertical-align: top;\n",
              "    }\n",
              "\n",
              "    .dataframe thead th {\n",
              "        text-align: right;\n",
              "    }\n",
              "</style>\n",
              "<table border=\"1\" class=\"dataframe\">\n",
              "  <thead>\n",
              "    <tr style=\"text-align: right;\">\n",
              "      <th></th>\n",
              "      <th>Ticker</th>\n",
              "      <th>Price</th>\n",
              "      <th>Market Capitalization</th>\n",
              "      <th>Number Of Shares to Buy</th>\n",
              "    </tr>\n",
              "  </thead>\n",
              "  <tbody>\n",
              "    <tr>\n",
              "      <th>0</th>\n",
              "      <td>AAPL</td>\n",
              "      <td>176.68</td>\n",
              "      <td>84408092206</td>\n",
              "      <td>N/A</td>\n",
              "    </tr>\n",
              "  </tbody>\n",
              "</table>\n",
              "</div>"
            ],
            "text/plain": [
              "  Ticker   Price Market Capitalization Number Of Shares to Buy\n",
              "0   AAPL  176.68           84408092206                     N/A"
            ]
          },
          "metadata": {
            "tags": []
          },
          "execution_count": 28
        }
      ]
    },
    {
      "cell_type": "code",
      "metadata": {
        "id": "qOv3NMLaHAxw"
      },
      "source": [
        "final_dataframe = pd.DataFrame(columns = my_columns)\n",
        "for symbol in stocks['Ticker']:\n",
        "    api_url = f'https://sandbox.iexapis.com/stable/stock/{symbol}/quote?token={IEX_CLOUD_API_TOKEN}'\n",
        "    data = requests.get(api_url).json()\n",
        "    final_dataframe = final_dataframe.append(\n",
        "                                        pd.Series([symbol, \n",
        "                                                   data['latestPrice'], \n",
        "                                                   data['marketCap'], \n",
        "                                                   'N/A'], \n",
        "                                                  index = my_columns), \n",
        "                                        ignore_index = True)"
      ],
      "execution_count": 17,
      "outputs": []
    },
    {
      "cell_type": "code",
      "metadata": {
        "colab": {
          "base_uri": "https://localhost:8080/",
          "height": 406
        },
        "id": "ETsyop0oHGAN",
        "outputId": "ae2b3376-2567-4767-9796-c3dfe22d5ab3"
      },
      "source": [
        "final_dataframe"
      ],
      "execution_count": 18,
      "outputs": [
        {
          "output_type": "execute_result",
          "data": {
            "text/html": [
              "<div>\n",
              "<style scoped>\n",
              "    .dataframe tbody tr th:only-of-type {\n",
              "        vertical-align: middle;\n",
              "    }\n",
              "\n",
              "    .dataframe tbody tr th {\n",
              "        vertical-align: top;\n",
              "    }\n",
              "\n",
              "    .dataframe thead th {\n",
              "        text-align: right;\n",
              "    }\n",
              "</style>\n",
              "<table border=\"1\" class=\"dataframe\">\n",
              "  <thead>\n",
              "    <tr style=\"text-align: right;\">\n",
              "      <th></th>\n",
              "      <th>Ticker</th>\n",
              "      <th>Price</th>\n",
              "      <th>Market Capitalization</th>\n",
              "      <th>Number Of Shares to Buy</th>\n",
              "    </tr>\n",
              "  </thead>\n",
              "  <tbody>\n",
              "    <tr>\n",
              "      <th>0</th>\n",
              "      <td>A</td>\n",
              "      <td>135.80</td>\n",
              "      <td>41382615153</td>\n",
              "      <td>N/A</td>\n",
              "    </tr>\n",
              "    <tr>\n",
              "      <th>1</th>\n",
              "      <td>AAL</td>\n",
              "      <td>22.94</td>\n",
              "      <td>15021322582</td>\n",
              "      <td>N/A</td>\n",
              "    </tr>\n",
              "    <tr>\n",
              "      <th>2</th>\n",
              "      <td>AAP</td>\n",
              "      <td>201.16</td>\n",
              "      <td>13343816728</td>\n",
              "      <td>N/A</td>\n",
              "    </tr>\n",
              "    <tr>\n",
              "      <th>3</th>\n",
              "      <td>AAPL</td>\n",
              "      <td>129.15</td>\n",
              "      <td>2151670195705</td>\n",
              "      <td>N/A</td>\n",
              "    </tr>\n",
              "    <tr>\n",
              "      <th>4</th>\n",
              "      <td>ABBV</td>\n",
              "      <td>117.17</td>\n",
              "      <td>209068675816</td>\n",
              "      <td>N/A</td>\n",
              "    </tr>\n",
              "    <tr>\n",
              "      <th>...</th>\n",
              "      <td>...</td>\n",
              "      <td>...</td>\n",
              "      <td>...</td>\n",
              "      <td>...</td>\n",
              "    </tr>\n",
              "    <tr>\n",
              "      <th>500</th>\n",
              "      <td>YUM</td>\n",
              "      <td>121.48</td>\n",
              "      <td>37273419402</td>\n",
              "      <td>N/A</td>\n",
              "    </tr>\n",
              "    <tr>\n",
              "      <th>501</th>\n",
              "      <td>ZBH</td>\n",
              "      <td>171.21</td>\n",
              "      <td>36193697993</td>\n",
              "      <td>N/A</td>\n",
              "    </tr>\n",
              "    <tr>\n",
              "      <th>502</th>\n",
              "      <td>ZBRA</td>\n",
              "      <td>501.84</td>\n",
              "      <td>27378360465</td>\n",
              "      <td>N/A</td>\n",
              "    </tr>\n",
              "    <tr>\n",
              "      <th>503</th>\n",
              "      <td>ZION</td>\n",
              "      <td>59.00</td>\n",
              "      <td>9633557192</td>\n",
              "      <td>N/A</td>\n",
              "    </tr>\n",
              "    <tr>\n",
              "      <th>504</th>\n",
              "      <td>ZTS</td>\n",
              "      <td>176.68</td>\n",
              "      <td>84408092206</td>\n",
              "      <td>N/A</td>\n",
              "    </tr>\n",
              "  </tbody>\n",
              "</table>\n",
              "<p>505 rows × 4 columns</p>\n",
              "</div>"
            ],
            "text/plain": [
              "    Ticker   Price Market Capitalization Number Of Shares to Buy\n",
              "0        A  135.80           41382615153                     N/A\n",
              "1      AAL   22.94           15021322582                     N/A\n",
              "2      AAP  201.16           13343816728                     N/A\n",
              "3     AAPL  129.15         2151670195705                     N/A\n",
              "4     ABBV  117.17          209068675816                     N/A\n",
              "..     ...     ...                   ...                     ...\n",
              "500    YUM  121.48           37273419402                     N/A\n",
              "501    ZBH  171.21           36193697993                     N/A\n",
              "502   ZBRA  501.84           27378360465                     N/A\n",
              "503   ZION   59.00            9633557192                     N/A\n",
              "504    ZTS  176.68           84408092206                     N/A\n",
              "\n",
              "[505 rows x 4 columns]"
            ]
          },
          "metadata": {
            "tags": []
          },
          "execution_count": 18
        }
      ]
    },
    {
      "cell_type": "markdown",
      "metadata": {
        "id": "pJA_RRbiOkLh"
      },
      "source": [
        "**Using Batch API Calls to Improve Performance\n",
        "Batch API calls are one of the easiest ways to improve the performance of your code.**\n",
        "\n",
        "This is because HTTP requests are typically one of the slowest components of a script.\n",
        "\n",
        "Also, API providers will often give you discounted rates for using batch API calls since they are easier for the API provider to respond to.\n",
        "\n",
        "IEX Cloud limits their batch API calls to 100 tickers per request. Still, this reduces the number of API calls we'll make in this section from 500 to 5 - huge improvement! In this section, we'll split our list of stocks into groups of 100 and then make a batch API call for each group."
      ]
    },
    {
      "cell_type": "code",
      "metadata": {
        "id": "KhXUabfZHJTO"
      },
      "source": [
        "# Function sourced from \n",
        "# https://stackoverflow.com/questions/312443/how-do-you-split-a-list-into-evenly-sized-chunks\n",
        "def chunks(lst, n):\n",
        "    \"\"\"Yield successive n-sized chunks from lst.\"\"\"\n",
        "    for i in range(0, len(lst), n):\n",
        "        yield lst[i:i + n]"
      ],
      "execution_count": 30,
      "outputs": []
    },
    {
      "cell_type": "code",
      "metadata": {
        "colab": {
          "base_uri": "https://localhost:8080/",
          "height": 406
        },
        "id": "bC_AR4UkJSc_",
        "outputId": "9fa8d374-0d79-489b-d758-675c56070552"
      },
      "source": [
        "symbol_groups = list(chunks(stocks['Ticker'], 100))\n",
        "symbol_strings = []\n",
        "for i in range(0, len(symbol_groups)):\n",
        "    symbol_strings.append(','.join(symbol_groups[i]))\n",
        "#     print(symbol_strings[i])\n",
        "\n",
        "final_dataframe = pd.DataFrame(columns = my_columns)\n",
        "\n",
        "for symbol_string in symbol_strings:\n",
        "#     print(symbol_strings)\n",
        "    batch_api_call_url = f'https://sandbox.iexapis.com/stable/stock/market/batch/?types=quote&symbols={symbol_string}&token={IEX_CLOUD_API_TOKEN}'\n",
        "    data = requests.get(batch_api_call_url).json()\n",
        "    for symbol in symbol_string.split(','):\n",
        "        final_dataframe = final_dataframe.append(\n",
        "                                        pd.Series([symbol, \n",
        "                                                   data[symbol]['quote']['latestPrice'], \n",
        "                                                   data[symbol]['quote']['marketCap'], \n",
        "                                                   'N/A'], index = my_columns), ignore_index = True)\n",
        "        \n",
        "    \n",
        "final_dataframe"
      ],
      "execution_count": 31,
      "outputs": [
        {
          "output_type": "execute_result",
          "data": {
            "text/html": [
              "<div>\n",
              "<style scoped>\n",
              "    .dataframe tbody tr th:only-of-type {\n",
              "        vertical-align: middle;\n",
              "    }\n",
              "\n",
              "    .dataframe tbody tr th {\n",
              "        vertical-align: top;\n",
              "    }\n",
              "\n",
              "    .dataframe thead th {\n",
              "        text-align: right;\n",
              "    }\n",
              "</style>\n",
              "<table border=\"1\" class=\"dataframe\">\n",
              "  <thead>\n",
              "    <tr style=\"text-align: right;\">\n",
              "      <th></th>\n",
              "      <th>Ticker</th>\n",
              "      <th>Price</th>\n",
              "      <th>Market Capitalization</th>\n",
              "      <th>Number Of Shares to Buy</th>\n",
              "    </tr>\n",
              "  </thead>\n",
              "  <tbody>\n",
              "    <tr>\n",
              "      <th>0</th>\n",
              "      <td>A</td>\n",
              "      <td>133.20</td>\n",
              "      <td>41202840179</td>\n",
              "      <td>N/A</td>\n",
              "    </tr>\n",
              "    <tr>\n",
              "      <th>1</th>\n",
              "      <td>AAL</td>\n",
              "      <td>22.77</td>\n",
              "      <td>15095995261</td>\n",
              "      <td>N/A</td>\n",
              "    </tr>\n",
              "    <tr>\n",
              "      <th>2</th>\n",
              "      <td>AAP</td>\n",
              "      <td>202.86</td>\n",
              "      <td>13397697100</td>\n",
              "      <td>N/A</td>\n",
              "    </tr>\n",
              "    <tr>\n",
              "      <th>3</th>\n",
              "      <td>AAPL</td>\n",
              "      <td>129.91</td>\n",
              "      <td>2185457482269</td>\n",
              "      <td>N/A</td>\n",
              "    </tr>\n",
              "    <tr>\n",
              "      <th>4</th>\n",
              "      <td>ABBV</td>\n",
              "      <td>120.31</td>\n",
              "      <td>207595876348</td>\n",
              "      <td>N/A</td>\n",
              "    </tr>\n",
              "    <tr>\n",
              "      <th>...</th>\n",
              "      <td>...</td>\n",
              "      <td>...</td>\n",
              "      <td>...</td>\n",
              "      <td>...</td>\n",
              "    </tr>\n",
              "    <tr>\n",
              "      <th>500</th>\n",
              "      <td>YUM</td>\n",
              "      <td>123.37</td>\n",
              "      <td>35994689343</td>\n",
              "      <td>N/A</td>\n",
              "    </tr>\n",
              "    <tr>\n",
              "      <th>501</th>\n",
              "      <td>ZBH</td>\n",
              "      <td>173.38</td>\n",
              "      <td>35388799587</td>\n",
              "      <td>N/A</td>\n",
              "    </tr>\n",
              "    <tr>\n",
              "      <th>502</th>\n",
              "      <td>ZBRA</td>\n",
              "      <td>498.56</td>\n",
              "      <td>26507589994</td>\n",
              "      <td>N/A</td>\n",
              "    </tr>\n",
              "    <tr>\n",
              "      <th>503</th>\n",
              "      <td>ZION</td>\n",
              "      <td>60.90</td>\n",
              "      <td>9893305362</td>\n",
              "      <td>N/A</td>\n",
              "    </tr>\n",
              "    <tr>\n",
              "      <th>504</th>\n",
              "      <td>ZTS</td>\n",
              "      <td>176.79</td>\n",
              "      <td>86665716852</td>\n",
              "      <td>N/A</td>\n",
              "    </tr>\n",
              "  </tbody>\n",
              "</table>\n",
              "<p>505 rows × 4 columns</p>\n",
              "</div>"
            ],
            "text/plain": [
              "    Ticker   Price Market Capitalization Number Of Shares to Buy\n",
              "0        A  133.20           41202840179                     N/A\n",
              "1      AAL   22.77           15095995261                     N/A\n",
              "2      AAP  202.86           13397697100                     N/A\n",
              "3     AAPL  129.91         2185457482269                     N/A\n",
              "4     ABBV  120.31          207595876348                     N/A\n",
              "..     ...     ...                   ...                     ...\n",
              "500    YUM  123.37           35994689343                     N/A\n",
              "501    ZBH  173.38           35388799587                     N/A\n",
              "502   ZBRA  498.56           26507589994                     N/A\n",
              "503   ZION   60.90            9893305362                     N/A\n",
              "504    ZTS  176.79           86665716852                     N/A\n",
              "\n",
              "[505 rows x 4 columns]"
            ]
          },
          "metadata": {
            "tags": []
          },
          "execution_count": 31
        }
      ]
    },
    {
      "cell_type": "markdown",
      "metadata": {
        "id": "UQeA8VUeJkOl"
      },
      "source": [
        "**Calculating the Number of Shares to Buy**"
      ]
    },
    {
      "cell_type": "code",
      "metadata": {
        "colab": {
          "base_uri": "https://localhost:8080/"
        },
        "id": "usEd6waDJkdG",
        "outputId": "729d90ae-f402-4966-9da3-27694f1cf472"
      },
      "source": [
        "portfolio_size = input(\"Enter the value of your portfolio:\")\n",
        "\n",
        "try:\n",
        "    val = float(portfolio_size)\n",
        "except ValueError:\n",
        "    print(\"That's not a number! \\n Try again:\")\n",
        "    portfolio_size = input(\"Enter the value of your portfolio:\")"
      ],
      "execution_count": 37,
      "outputs": [
        {
          "output_type": "stream",
          "text": [
            "Enter the value of your portfolio:5000\n"
          ],
          "name": "stdout"
        }
      ]
    },
    {
      "cell_type": "code",
      "metadata": {
        "colab": {
          "base_uri": "https://localhost:8080/",
          "height": 424
        },
        "id": "zIRp_jYcJocX",
        "outputId": "da9f7630-bb7c-4498-b317-decb3a23a2e3"
      },
      "source": [
        "position_size = float(portfolio_size) / len(final_dataframe.index)\n",
        "print(\"position_size: \", position_size)\n",
        "for i in range(0, len(final_dataframe['Ticker'])):\n",
        "    final_dataframe.loc[i, 'Number Of Shares to Buy'] = math.floor(position_size / final_dataframe['Price'][i])\n",
        "final_dataframe"
      ],
      "execution_count": 40,
      "outputs": [
        {
          "output_type": "stream",
          "text": [
            "position_size:  9.900990099009901\n"
          ],
          "name": "stdout"
        },
        {
          "output_type": "execute_result",
          "data": {
            "text/html": [
              "<div>\n",
              "<style scoped>\n",
              "    .dataframe tbody tr th:only-of-type {\n",
              "        vertical-align: middle;\n",
              "    }\n",
              "\n",
              "    .dataframe tbody tr th {\n",
              "        vertical-align: top;\n",
              "    }\n",
              "\n",
              "    .dataframe thead th {\n",
              "        text-align: right;\n",
              "    }\n",
              "</style>\n",
              "<table border=\"1\" class=\"dataframe\">\n",
              "  <thead>\n",
              "    <tr style=\"text-align: right;\">\n",
              "      <th></th>\n",
              "      <th>Ticker</th>\n",
              "      <th>Price</th>\n",
              "      <th>Market Capitalization</th>\n",
              "      <th>Number Of Shares to Buy</th>\n",
              "    </tr>\n",
              "  </thead>\n",
              "  <tbody>\n",
              "    <tr>\n",
              "      <th>0</th>\n",
              "      <td>A</td>\n",
              "      <td>133.20</td>\n",
              "      <td>41202840179</td>\n",
              "      <td>0</td>\n",
              "    </tr>\n",
              "    <tr>\n",
              "      <th>1</th>\n",
              "      <td>AAL</td>\n",
              "      <td>22.77</td>\n",
              "      <td>15095995261</td>\n",
              "      <td>0</td>\n",
              "    </tr>\n",
              "    <tr>\n",
              "      <th>2</th>\n",
              "      <td>AAP</td>\n",
              "      <td>202.86</td>\n",
              "      <td>13397697100</td>\n",
              "      <td>0</td>\n",
              "    </tr>\n",
              "    <tr>\n",
              "      <th>3</th>\n",
              "      <td>AAPL</td>\n",
              "      <td>129.91</td>\n",
              "      <td>2185457482269</td>\n",
              "      <td>0</td>\n",
              "    </tr>\n",
              "    <tr>\n",
              "      <th>4</th>\n",
              "      <td>ABBV</td>\n",
              "      <td>120.31</td>\n",
              "      <td>207595876348</td>\n",
              "      <td>0</td>\n",
              "    </tr>\n",
              "    <tr>\n",
              "      <th>...</th>\n",
              "      <td>...</td>\n",
              "      <td>...</td>\n",
              "      <td>...</td>\n",
              "      <td>...</td>\n",
              "    </tr>\n",
              "    <tr>\n",
              "      <th>500</th>\n",
              "      <td>YUM</td>\n",
              "      <td>123.37</td>\n",
              "      <td>35994689343</td>\n",
              "      <td>0</td>\n",
              "    </tr>\n",
              "    <tr>\n",
              "      <th>501</th>\n",
              "      <td>ZBH</td>\n",
              "      <td>173.38</td>\n",
              "      <td>35388799587</td>\n",
              "      <td>0</td>\n",
              "    </tr>\n",
              "    <tr>\n",
              "      <th>502</th>\n",
              "      <td>ZBRA</td>\n",
              "      <td>498.56</td>\n",
              "      <td>26507589994</td>\n",
              "      <td>0</td>\n",
              "    </tr>\n",
              "    <tr>\n",
              "      <th>503</th>\n",
              "      <td>ZION</td>\n",
              "      <td>60.90</td>\n",
              "      <td>9893305362</td>\n",
              "      <td>0</td>\n",
              "    </tr>\n",
              "    <tr>\n",
              "      <th>504</th>\n",
              "      <td>ZTS</td>\n",
              "      <td>176.79</td>\n",
              "      <td>86665716852</td>\n",
              "      <td>0</td>\n",
              "    </tr>\n",
              "  </tbody>\n",
              "</table>\n",
              "<p>505 rows × 4 columns</p>\n",
              "</div>"
            ],
            "text/plain": [
              "    Ticker   Price Market Capitalization Number Of Shares to Buy\n",
              "0        A  133.20           41202840179                       0\n",
              "1      AAL   22.77           15095995261                       0\n",
              "2      AAP  202.86           13397697100                       0\n",
              "3     AAPL  129.91         2185457482269                       0\n",
              "4     ABBV  120.31          207595876348                       0\n",
              "..     ...     ...                   ...                     ...\n",
              "500    YUM  123.37           35994689343                       0\n",
              "501    ZBH  173.38           35388799587                       0\n",
              "502   ZBRA  498.56           26507589994                       0\n",
              "503   ZION   60.90            9893305362                       0\n",
              "504    ZTS  176.79           86665716852                       0\n",
              "\n",
              "[505 rows x 4 columns]"
            ]
          },
          "metadata": {
            "tags": []
          },
          "execution_count": 40
        }
      ]
    },
    {
      "cell_type": "code",
      "metadata": {
        "colab": {
          "base_uri": "https://localhost:8080/",
          "height": 167
        },
        "id": "CyVDQeiVV4s5",
        "outputId": "7dd2e829-21d6-4431-f6f6-d0378335238a"
      },
      "source": [
        "final_dataframe[final_dataframe['Number Of Shares to Buy'] > 0] "
      ],
      "execution_count": 41,
      "outputs": [
        {
          "output_type": "execute_result",
          "data": {
            "text/html": [
              "<div>\n",
              "<style scoped>\n",
              "    .dataframe tbody tr th:only-of-type {\n",
              "        vertical-align: middle;\n",
              "    }\n",
              "\n",
              "    .dataframe tbody tr th {\n",
              "        vertical-align: top;\n",
              "    }\n",
              "\n",
              "    .dataframe thead th {\n",
              "        text-align: right;\n",
              "    }\n",
              "</style>\n",
              "<table border=\"1\" class=\"dataframe\">\n",
              "  <thead>\n",
              "    <tr style=\"text-align: right;\">\n",
              "      <th></th>\n",
              "      <th>Ticker</th>\n",
              "      <th>Price</th>\n",
              "      <th>Market Capitalization</th>\n",
              "      <th>Number Of Shares to Buy</th>\n",
              "    </tr>\n",
              "  </thead>\n",
              "  <tbody>\n",
              "    <tr>\n",
              "      <th>19</th>\n",
              "      <td>AIV</td>\n",
              "      <td>7.10</td>\n",
              "      <td>1057435109</td>\n",
              "      <td>1</td>\n",
              "    </tr>\n",
              "    <tr>\n",
              "      <th>111</th>\n",
              "      <td>COTY</td>\n",
              "      <td>8.69</td>\n",
              "      <td>6699659263</td>\n",
              "      <td>1</td>\n",
              "    </tr>\n",
              "    <tr>\n",
              "      <th>194</th>\n",
              "      <td>FTI</td>\n",
              "      <td>8.21</td>\n",
              "      <td>3879013931</td>\n",
              "      <td>1</td>\n",
              "    </tr>\n",
              "    <tr>\n",
              "      <th>327</th>\n",
              "      <td>NBL</td>\n",
              "      <td>8.53</td>\n",
              "      <td>4285197320</td>\n",
              "      <td>1</td>\n",
              "    </tr>\n",
              "  </tbody>\n",
              "</table>\n",
              "</div>"
            ],
            "text/plain": [
              "    Ticker  Price Market Capitalization Number Of Shares to Buy\n",
              "19     AIV   7.10            1057435109                       1\n",
              "111   COTY   8.69            6699659263                       1\n",
              "194    FTI   8.21            3879013931                       1\n",
              "327    NBL   8.53            4285197320                       1"
            ]
          },
          "metadata": {
            "tags": []
          },
          "execution_count": 41
        }
      ]
    },
    {
      "cell_type": "markdown",
      "metadata": {
        "id": "gyvoK10gWSoE"
      },
      "source": [
        "# Formatting Our Excel Output\n",
        "We will be using the XlsxWriter library for Python to create nicely-formatted Excel files.\n",
        "\n",
        "XlsxWriter is an excellent package and offers tons of customization. However, the tradeoff for this is that the library can seem very complicated to new users. Accordingly, this section will be fairly long because I want to do a good job of explaining how XlsxWriter works.\n",
        "\n",
        "**Initializing our XlsxWriter Object**"
      ]
    },
    {
      "cell_type": "code",
      "metadata": {
        "id": "lCOi-7a6Jrj2"
      },
      "source": [
        "writer = pd.ExcelWriter('recommended_trades.xlsx', engine='xlsxwriter')\n",
        "final_dataframe.to_excel(writer, sheet_name='Recommended Trades', index = False)"
      ],
      "execution_count": 42,
      "outputs": []
    },
    {
      "cell_type": "code",
      "metadata": {
        "id": "lb7WVNHpJu7O"
      },
      "source": [
        "background_color = '#0a0a23'\n",
        "font_color = '#ffffff'\n",
        "\n",
        "string_format = writer.book.add_format(\n",
        "        {\n",
        "            'font_color': font_color,\n",
        "            'bg_color': background_color,\n",
        "            'border': 1\n",
        "        }\n",
        "    )\n",
        "\n",
        "dollar_format = writer.book.add_format(\n",
        "        {\n",
        "            'num_format':'$0.00',\n",
        "            'font_color': font_color,\n",
        "            'bg_color': background_color,\n",
        "            'border': 1\n",
        "        }\n",
        "    )\n",
        "\n",
        "integer_format = writer.book.add_format(\n",
        "        {\n",
        "            'num_format':'0',\n",
        "            'font_color': font_color,\n",
        "            'bg_color': background_color,\n",
        "            'border': 1\n",
        "        }\n",
        "    )"
      ],
      "execution_count": 43,
      "outputs": []
    },
    {
      "cell_type": "code",
      "metadata": {
        "id": "S8tqnqJ8JzsA"
      },
      "source": [
        "column_formats = { \n",
        "                    'A': ['Ticker', string_format],\n",
        "                    'B': ['Price', dollar_format],\n",
        "                    'C': ['Market Capitalization', dollar_format],\n",
        "                    'D': ['Number of Shares to Buy', integer_format]\n",
        "                    }\n",
        "\n",
        "for column in column_formats.keys():\n",
        "    writer.sheets['Recommended Trades'].set_column(f'{column}:{column}', 20, column_formats[column][1])\n",
        "    writer.sheets['Recommended Trades'].write(f'{column}1', column_formats[column][0], string_format)"
      ],
      "execution_count": 44,
      "outputs": []
    },
    {
      "cell_type": "code",
      "metadata": {
        "id": "YwGRKqQgJ0UX"
      },
      "source": [
        "\n",
        "writer.save()"
      ],
      "execution_count": 45,
      "outputs": []
    }
  ]
}